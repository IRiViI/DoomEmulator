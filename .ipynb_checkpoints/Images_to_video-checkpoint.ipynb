{
 "cells": [
  {
   "cell_type": "code",
   "execution_count": 1,
   "metadata": {},
   "outputs": [],
   "source": [
    "import cv2\n",
    "import numpy as np\n",
    "import matplotlib.pyplot as plt\n",
    "from os import listdir\n",
    "from os.path import isfile, join"
   ]
  },
  {
   "cell_type": "code",
   "execution_count": 2,
   "metadata": {},
   "outputs": [],
   "source": [
    "output_path = 'zoomed_16l_leaky_results.avi'\n",
    "input_path = \"../../zoomed_16l_leaky_results\"\n",
    "fps = 30"
   ]
  },
  {
   "cell_type": "code",
   "execution_count": 3,
   "metadata": {},
   "outputs": [
    {
     "name": "stdout",
     "output_type": "stream",
     "text": [
      "Number of files 67278\n"
     ]
    }
   ],
   "source": [
    "# Get files\n",
    "files = [f for f in listdir(input_path) if isfile(join(input_path, f))]\n",
    "print(\"Number of files\", len(files))\n",
    "# Order files\n",
    "files = sorted(files, key=lambda file: int(file.split('.')[0]), reverse=False)"
   ]
  },
  {
   "cell_type": "code",
   "execution_count": 6,
   "metadata": {},
   "outputs": [
    {
     "data": {
      "text/plain": [
       "'0'"
      ]
     },
     "execution_count": 6,
     "metadata": {},
     "output_type": "execute_result"
    }
   ],
   "source": []
  },
  {
   "cell_type": "code",
   "execution_count": 4,
   "metadata": {},
   "outputs": [],
   "source": [
    "# files[:20]"
   ]
  },
  {
   "cell_type": "code",
   "execution_count": 5,
   "metadata": {},
   "outputs": [
    {
     "name": "stdout",
     "output_type": "stream",
     "text": [
      "0\n",
      "1000\n",
      "2000\n",
      "3000\n",
      "4000\n",
      "5000\n",
      "6000\n",
      "7000\n",
      "8000\n",
      "9000\n",
      "10000\n",
      "11000\n",
      "12000\n",
      "13000\n",
      "14000\n",
      "15000\n",
      "16000\n",
      "17000\n",
      "18000\n",
      "19000\n",
      "20000\n",
      "21000\n",
      "22000\n",
      "23000\n",
      "24000\n",
      "25000\n",
      "26000\n",
      "27000\n",
      "28000\n",
      "29000\n",
      "30000\n",
      "31000\n",
      "32000\n",
      "33000\n",
      "34000\n",
      "35000\n",
      "36000\n",
      "37000\n",
      "38000\n",
      "39000\n",
      "40000\n",
      "41000\n",
      "42000\n",
      "43000\n",
      "44000\n",
      "45000\n",
      "46000\n",
      "47000\n",
      "48000\n",
      "49000\n",
      "50000\n",
      "51000\n",
      "52000\n"
     ]
    }
   ],
   "source": [
    "\n",
    "font                   = cv2.FONT_HERSHEY_SIMPLEX\n",
    "topLeftCornerOfText = (20,30)\n",
    "fontScale              = 1\n",
    "fontColor              = (255,255,255)\n",
    "lineType               = 2\n",
    "\n",
    "fourcc =  cv2.VideoWriter_fourcc(*'mp4v')\n",
    "videowriter = cv2.VideoWriter(output_path,fourcc, fps, (640,480))\n",
    "for file_index, file in enumerate(files):\n",
    "    if file_index % 1000 == 0:\n",
    "        print(file_index)\n",
    "    image = cv2.imread(\"{}/{}\".format(input_path,file))\n",
    "    \n",
    "    cv2.putText(image,\"{}\".format(files[0].split(\".\")[0]), \n",
    "        topLeftCornerOfText, \n",
    "        font, \n",
    "        fontScale,\n",
    "        fontColor,\n",
    "        lineType)\n",
    "\n",
    "\n",
    "#     RGB_img = cv2.cvtColor(np.uint8(), cv2.COLOR_BGR2RGB)\n",
    "    videowriter.write(image)\n",
    "videowriter.release()"
   ]
  },
  {
   "cell_type": "code",
   "execution_count": null,
   "metadata": {},
   "outputs": [],
   "source": []
  },
  {
   "cell_type": "code",
   "execution_count": 9,
   "metadata": {},
   "outputs": [],
   "source": [
    "# output_path = \"../../../Creative Cloud Files/Just a character/out.avi\"\n",
    "output_path = \"../../../Creative Cloud Files/Just a character/dancing.avi\"\n",
    "# input_path = \"../../../Creative Cloud Files/Just a character/to_convert\"\n",
    "input_path = \"../../../Creative Cloud Files/Just a character/dancing to convert\"\n",
    "fps = 30"
   ]
  },
  {
   "cell_type": "code",
   "execution_count": 8,
   "metadata": {},
   "outputs": [
    {
     "name": "stdout",
     "output_type": "stream",
     "text": [
      "Number of files 102\n"
     ]
    }
   ],
   "source": [
    "# Get files\n",
    "files = [f for f in listdir(input_path) if isfile(join(input_path, f))]\n",
    "print(\"Number of files\", len(files))\n",
    "# Order files\n",
    "files = sorted(files, key=lambda file: int(file.split('_')[1].split('.')[0]), reverse=False)"
   ]
  },
  {
   "cell_type": "code",
   "execution_count": null,
   "metadata": {},
   "outputs": [],
   "source": []
  }
 ],
 "metadata": {
  "kernelspec": {
   "display_name": "Python 3",
   "language": "python",
   "name": "python3"
  },
  "language_info": {
   "codemirror_mode": {
    "name": "ipython",
    "version": 3
   },
   "file_extension": ".py",
   "mimetype": "text/x-python",
   "name": "python",
   "nbconvert_exporter": "python",
   "pygments_lexer": "ipython3",
   "version": "3.7.4"
  }
 },
 "nbformat": 4,
 "nbformat_minor": 4
}
