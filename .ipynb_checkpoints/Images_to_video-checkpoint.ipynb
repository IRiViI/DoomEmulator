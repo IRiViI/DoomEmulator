{
 "cells": [
  {
   "cell_type": "code",
   "execution_count": 1,
   "metadata": {},
   "outputs": [],
   "source": [
    "import cv2\n",
    "import numpy as np\n",
    "import matplotlib.pyplot as plt\n",
    "from os import listdir\n",
    "from os.path import isfile, join"
   ]
  },
  {
   "cell_type": "code",
   "execution_count": 4,
   "metadata": {},
   "outputs": [],
   "source": [
    "output_path = 'Autoencoder_results_part_2.avi'\n",
    "input_path = \"../../AE_results\"\n",
    "fps = 30"
   ]
  },
  {
   "cell_type": "code",
   "execution_count": 5,
   "metadata": {},
   "outputs": [
    {
     "name": "stdout",
     "output_type": "stream",
     "text": [
      "Number of files 80473\n"
     ]
    }
   ],
   "source": [
    "# Get files\n",
    "files = [f for f in listdir(input_path) if isfile(join(input_path, f))]\n",
    "print(\"Number of files\", len(files))\n",
    "# Order files\n",
    "files = sorted(files, key=lambda file: int(file.split('.')[0]), reverse=False)"
   ]
  },
  {
   "cell_type": "code",
   "execution_count": 6,
   "metadata": {},
   "outputs": [],
   "source": [
    "# files[:20]"
   ]
  },
  {
   "cell_type": "code",
   "execution_count": null,
   "metadata": {},
   "outputs": [],
   "source": [
    "\n",
    "font                   = cv2.FONT_HERSHEY_SIMPLEX\n",
    "topLeftCornerOfText = (20,30)\n",
    "fontScale              = 1\n",
    "fontColor              = (255,255,255)\n",
    "lineType               = 2\n",
    "\n",
    "fourcc =  cv2.VideoWriter_fourcc(*'mp4v')\n",
    "videowriter = cv2.VideoWriter(output_path,fourcc, fps, (640,480))\n",
    "for file_index, file in enumerate(files):\n",
    "    if file_index % 1000 == 0:\n",
    "        print(file_index)\n",
    "    image = cv2.imread(\"{}/{}\".format(input_path,file))\n",
    "    \n",
    "    cv2.putText(image,\"{}\".format(file_index), \n",
    "        topLeftCornerOfText, \n",
    "        font, \n",
    "        fontScale,\n",
    "        fontColor,\n",
    "        lineType)\n",
    "\n",
    "\n",
    "#     RGB_img = cv2.cvtColor(np.uint8(), cv2.COLOR_BGR2RGB)\n",
    "    videowriter.write(image)\n",
    "videowriter.release()"
   ]
  },
  {
   "cell_type": "code",
   "execution_count": null,
   "metadata": {},
   "outputs": [],
   "source": []
  }
 ],
 "metadata": {
  "kernelspec": {
   "display_name": "Python 3",
   "language": "python",
   "name": "python3"
  },
  "language_info": {
   "codemirror_mode": {
    "name": "ipython",
    "version": 3
   },
   "file_extension": ".py",
   "mimetype": "text/x-python",
   "name": "python",
   "nbconvert_exporter": "python",
   "pygments_lexer": "ipython3",
   "version": "3.7.4"
  }
 },
 "nbformat": 4,
 "nbformat_minor": 4
}
